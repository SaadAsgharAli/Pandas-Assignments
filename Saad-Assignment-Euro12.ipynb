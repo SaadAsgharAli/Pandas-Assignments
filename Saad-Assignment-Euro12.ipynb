{
 "cells": [
  {
   "cell_type": "markdown",
   "metadata": {},
   "source": [
    "\n",
    "\n",
    "### Step 1. Import the necessary libraries"
   ]
  },
  {
   "cell_type": "code",
   "execution_count": 2,
   "metadata": {},
   "outputs": [],
   "source": [
    "import numpy as np\n",
    "import pandas as pd"
   ]
  },
  {
   "cell_type": "markdown",
   "metadata": {},
   "source": [
    "### Step 2. Import the dataset Euro_2012_stats_TEAM"
   ]
  },
  {
   "cell_type": "markdown",
   "metadata": {},
   "source": [
    "### Step 3. Assign it to a variable called euro12."
   ]
  },
  {
   "cell_type": "code",
   "execution_count": 171,
   "metadata": {},
   "outputs": [
    {
     "name": "stdout",
     "output_type": "stream",
     "text": [
      "euro12 is <class 'pandas.core.frame.DataFrame'>\n"
     ]
    }
   ],
   "source": [
    "euro12 = pd.read_csv('Euro_2012_stats_TEAM.csv',sep=',')\n",
    "print('euro12 is', type(euro12))"
   ]
  },
  {
   "cell_type": "markdown",
   "metadata": {},
   "source": [
    "### Step 4. Select only the Goal column."
   ]
  },
  {
   "cell_type": "code",
   "execution_count": 121,
   "metadata": {},
   "outputs": [
    {
     "name": "stdout",
     "output_type": "stream",
     "text": [
      "0      4.0\n",
      "1      4.0\n",
      "2      4.0\n",
      "3      5.0\n",
      "4      3.0\n",
      "5     10.0\n",
      "6      5.0\n",
      "7      6.0\n",
      "8      2.0\n",
      "9      2.0\n",
      "10     6.0\n",
      "11     1.0\n",
      "12     5.0\n",
      "13    12.0\n",
      "14     5.0\n",
      "15     2.0\n",
      "Name: Goals, dtype: float64\n"
     ]
    },
    {
     "data": {
      "text/plain": [
       "pandas.core.series.Series"
      ]
     },
     "execution_count": 121,
     "metadata": {},
     "output_type": "execute_result"
    }
   ],
   "source": [
    "g = (euro12['Goals'])\n",
    "g = g.dropna()\n",
    "print(g)\n",
    "type(g)"
   ]
  },
  {
   "cell_type": "markdown",
   "metadata": {},
   "source": [
    "### Step 5. How many team participated in the Euro2012?"
   ]
  },
  {
   "cell_type": "code",
   "execution_count": 40,
   "metadata": {},
   "outputs": [
    {
     "name": "stdout",
     "output_type": "stream",
     "text": [
      "17 teams participated in the Euro2012\n"
     ]
    }
   ],
   "source": [
    "teams = euro12['Team']\n",
    "teams = teams.dropna()\n",
    "print(teams.size,'teams participated in the Euro2012')"
   ]
  },
  {
   "cell_type": "markdown",
   "metadata": {},
   "source": [
    "### Step 6. What is the number of columns in the dataset?"
   ]
  },
  {
   "cell_type": "code",
   "execution_count": 76,
   "metadata": {},
   "outputs": [
    {
     "name": "stdout",
     "output_type": "stream",
     "text": [
      "35 is the number of columns in the dataset\n"
     ]
    }
   ],
   "source": [
    "print(euro12.columns.size, 'is the number of columns in the dataset')"
   ]
  },
  {
   "cell_type": "markdown",
   "metadata": {},
   "source": [
    "### Step 7. View only the columns Team, Yellow Cards and Red Cards and assign them to a dataframe called discipline"
   ]
  },
  {
   "cell_type": "code",
   "execution_count": 86,
   "metadata": {},
   "outputs": [
    {
     "name": "stdout",
     "output_type": "stream",
     "text": [
      "                   Team  Yellow Cards  Red Cards\n",
      "0               Croatia           9.0        0.0\n",
      "1        Czech Republic           7.0        0.0\n",
      "2               Denmark           4.0        0.0\n",
      "3               England           5.0        0.0\n",
      "4                France           6.0        0.0\n",
      "5               Germany           4.0        0.0\n",
      "6                Greece           9.0        1.0\n",
      "7                 Italy          16.0        0.0\n",
      "8           Netherlands           5.0        0.0\n",
      "9                Poland           7.0        1.0\n",
      "10             Portugal          12.0        0.0\n",
      "11  Republic of Ireland           6.0        1.0\n",
      "12               Russia           6.0        0.0\n",
      "13                Spain          11.0        0.0\n",
      "14               Sweden           7.0        0.0\n",
      "15              Ukraine           5.0        0.0\n"
     ]
    },
    {
     "data": {
      "text/plain": [
       "pandas.core.frame.DataFrame"
      ]
     },
     "execution_count": 86,
     "metadata": {},
     "output_type": "execute_result"
    }
   ],
   "source": [
    "#print(d)\n",
    "dic = {'Team':euro12['Team'], 'Yellow Cards':euro12['Yellow Cards'],  'Red Cards':euro12['Red Cards']}\n",
    "discipline = pd.DataFrame(dic)\n",
    "discipline = discipline.dropna()\n",
    "print(discipline)\n",
    "type(discipline)"
   ]
  },
  {
   "cell_type": "markdown",
   "metadata": {},
   "source": [
    "### Step 8. Sort the teams by Red Cards, then to Yellow Cards"
   ]
  },
  {
   "cell_type": "code",
   "execution_count": 96,
   "metadata": {
    "scrolled": true
   },
   "outputs": [
    {
     "name": "stdout",
     "output_type": "stream",
     "text": [
      "Sort by Red Cards:\n",
      "\n",
      "                   Team  Yellow Cards  Red Cards\n",
      "0               Croatia           9.0        0.0\n",
      "1        Czech Republic           7.0        0.0\n",
      "2               Denmark           4.0        0.0\n",
      "3               England           5.0        0.0\n",
      "4                France           6.0        0.0\n",
      "5               Germany           4.0        0.0\n",
      "7                 Italy          16.0        0.0\n",
      "8           Netherlands           5.0        0.0\n",
      "10             Portugal          12.0        0.0\n",
      "12               Russia           6.0        0.0\n",
      "13                Spain          11.0        0.0\n",
      "14               Sweden           7.0        0.0\n",
      "15              Ukraine           5.0        0.0\n",
      "6                Greece           9.0        1.0\n",
      "9                Poland           7.0        1.0\n",
      "11  Republic of Ireland           6.0        1.0\n",
      "\n",
      "\n",
      "\n",
      "Sort by Yellow Cards:\n",
      "\n",
      "                   Team  Yellow Cards  Red Cards\n",
      "2               Denmark           4.0        0.0\n",
      "5               Germany           4.0        0.0\n",
      "3               England           5.0        0.0\n",
      "8           Netherlands           5.0        0.0\n",
      "15              Ukraine           5.0        0.0\n",
      "4                France           6.0        0.0\n",
      "11  Republic of Ireland           6.0        1.0\n",
      "12               Russia           6.0        0.0\n",
      "1        Czech Republic           7.0        0.0\n",
      "9                Poland           7.0        1.0\n",
      "14               Sweden           7.0        0.0\n",
      "0               Croatia           9.0        0.0\n",
      "6                Greece           9.0        1.0\n",
      "13                Spain          11.0        0.0\n",
      "10             Portugal          12.0        0.0\n",
      "7                 Italy          16.0        0.0\n"
     ]
    }
   ],
   "source": [
    "print('Sort by Red Cards:\\n')\n",
    "print(discipline.sort_values(by = ['Red Cards']))\n",
    "\n",
    "print('\\n\\n\\nSort by Yellow Cards:\\n')\n",
    "print(discipline.sort_values(by = ['Yellow Cards']))"
   ]
  },
  {
   "cell_type": "markdown",
   "metadata": {},
   "source": [
    "### Step 9. Calculate the mean Yellow Cards given per Team"
   ]
  },
  {
   "cell_type": "code",
   "execution_count": 118,
   "metadata": {},
   "outputs": [
    {
     "data": {
      "text/plain": [
       "7.4375"
      ]
     },
     "execution_count": 118,
     "metadata": {},
     "output_type": "execute_result"
    }
   ],
   "source": [
    "yc = euro12['Yellow Cards']\n",
    "yc = yc.dropna()\n",
    "#yc\n",
    "#yc.size\n",
    "yc.mean()"
   ]
  },
  {
   "cell_type": "markdown",
   "metadata": {},
   "source": [
    "### Step 10. Filter teams that scored more than 6 goals"
   ]
  },
  {
   "cell_type": "code",
   "execution_count": 137,
   "metadata": {},
   "outputs": [
    {
     "name": "stdout",
     "output_type": "stream",
     "text": [
      "These teams scored more than 6 goals:  ['Germany' 'Spain']\n"
     ]
    }
   ],
   "source": [
    "dic = {'Team':euro12['Team'], 'Goals':euro12['Goals']}\n",
    "gl = pd.DataFrame(dic)\n",
    "gl = gl.dropna()\n",
    "#print(gl)\n",
    "\n",
    "g2 = gl[gl['Goals']>6]  # boolean dataframe\n",
    "print('These teams scored more than 6 goals: ',g2['Team'].values)"
   ]
  },
  {
   "cell_type": "markdown",
   "metadata": {},
   "source": [
    "### Step 11. Select the teams that start with G"
   ]
  },
  {
   "cell_type": "code",
   "execution_count": 163,
   "metadata": {},
   "outputs": [
    {
     "name": "stdout",
     "output_type": "stream",
     "text": [
      "Teams that start with G are:\n",
      "\n",
      "Germany\n",
      "Greece\n"
     ]
    }
   ],
   "source": [
    "g = (euro12['Team'])\n",
    "g = g.dropna()\n",
    "print('Teams that start with G are:\\n')\n",
    "for i in np.arange(g.size):\n",
    "    if(g.values[i][0] == 'G'):\n",
    "        print(g.values[i])"
   ]
  },
  {
   "cell_type": "markdown",
   "metadata": {},
   "source": [
    "### Step 12. Select the first 7 columns"
   ]
  },
  {
   "cell_type": "code",
   "execution_count": 188,
   "metadata": {},
   "outputs": [
    {
     "name": "stdout",
     "output_type": "stream",
     "text": [
      "                   Team  Goals  Shots on target  Shots off target  \\\n",
      "0               Croatia    4.0             13.0              12.0   \n",
      "1        Czech Republic    4.0             13.0              18.0   \n",
      "2               Denmark    4.0             10.0              10.0   \n",
      "3               England    5.0             11.0              18.0   \n",
      "4                France    3.0             22.0              24.0   \n",
      "5               Germany   10.0             32.0              32.0   \n",
      "6                Greece    5.0              8.0              18.0   \n",
      "7                 Italy    6.0             34.0              45.0   \n",
      "8           Netherlands    2.0             12.0              36.0   \n",
      "9                Poland    2.0             15.0              23.0   \n",
      "10             Portugal    6.0             22.0              42.0   \n",
      "11  Republic of Ireland    1.0              7.0              12.0   \n",
      "12               Russia    5.0              9.0              31.0   \n",
      "13                Spain   12.0             42.0              33.0   \n",
      "14               Sweden    5.0             17.0              19.0   \n",
      "15              Ukraine    2.0              7.0              26.0   \n",
      "\n",
      "   Shooting Accuracy % Goals-to-shots  Total shots (inc. Blocked)  \n",
      "0             51.90%           16.00%                        32.0  \n",
      "1             41.90%           12.90%                        39.0  \n",
      "2             50.00%           20.00%                        27.0  \n",
      "3             50.00%           17.20%                        40.0  \n",
      "4             37.90%            6.50%                        65.0  \n",
      "5             47.80%           15.60%                        80.0  \n",
      "6             30.70%           19.20%                        32.0  \n",
      "7             43.00%            7.50%                       110.0  \n",
      "8             25.00%            4.10%                        60.0  \n",
      "9             39.40%            5.20%                        48.0  \n",
      "10            34.30%            9.30%                        82.0  \n",
      "11            36.80%            5.20%                        28.0  \n",
      "12            22.50%           12.50%                        59.0  \n",
      "13            55.90%           16.00%                       100.0  \n",
      "14            47.20%           13.80%                        39.0  \n",
      "15            21.20%            6.00%                        38.0  \n"
     ]
    }
   ],
   "source": [
    "g = euro12.iloc[:, :7]\n",
    "g = g.dropna()\n",
    "#print(g.columns[0])\n",
    "print(g)"
   ]
  },
  {
   "cell_type": "markdown",
   "metadata": {},
   "source": [
    "### Step 13. Select all columns except the last 3."
   ]
  },
  {
   "cell_type": "code",
   "execution_count": 195,
   "metadata": {},
   "outputs": [
    {
     "name": "stdout",
     "output_type": "stream",
     "text": [
      "                                                 Team  Goals  Shots on target  \\\n",
      "0                                             Croatia    4.0             13.0   \n",
      "1                                      Czech Republic    4.0             13.0   \n",
      "2                                             Denmark    4.0             10.0   \n",
      "3                                             England    5.0             11.0   \n",
      "4                                              France    3.0             22.0   \n",
      "5                                             Germany   10.0             32.0   \n",
      "6                                              Greece    5.0              8.0   \n",
      "7                                               Italy    6.0             34.0   \n",
      "8                                         Netherlands    2.0             12.0   \n",
      "9                                              Poland    2.0             15.0   \n",
      "10                                           Portugal    6.0             22.0   \n",
      "11                                Republic of Ireland    1.0              7.0   \n",
      "12                                             Russia    5.0              9.0   \n",
      "13                                              Spain   12.0             42.0   \n",
      "14                                             Sweden    5.0             17.0   \n",
      "15                                            Ukraine    2.0              7.0   \n",
      "16                                                NaN    NaN              NaN   \n",
      "17                                                NaN    NaN              NaN   \n",
      "18                                                NaN    NaN              NaN   \n",
      "19  https://towardsdatascience.com/data-handling-u...    NaN              NaN   \n",
      "\n",
      "    Shots off target Shooting Accuracy % Goals-to-shots  \\\n",
      "0               12.0            51.90%           16.00%   \n",
      "1               18.0            41.90%           12.90%   \n",
      "2               10.0            50.00%           20.00%   \n",
      "3               18.0            50.00%           17.20%   \n",
      "4               24.0            37.90%            6.50%   \n",
      "5               32.0            47.80%           15.60%   \n",
      "6               18.0            30.70%           19.20%   \n",
      "7               45.0            43.00%            7.50%   \n",
      "8               36.0            25.00%            4.10%   \n",
      "9               23.0            39.40%            5.20%   \n",
      "10              42.0            34.30%            9.30%   \n",
      "11              12.0            36.80%            5.20%   \n",
      "12              31.0            22.50%           12.50%   \n",
      "13              33.0            55.90%           16.00%   \n",
      "14              19.0            47.20%           13.80%   \n",
      "15              26.0            21.20%            6.00%   \n",
      "16               NaN               NaN              NaN   \n",
      "17               NaN               NaN              NaN   \n",
      "18               NaN               NaN              NaN   \n",
      "19               NaN               NaN              NaN   \n",
      "\n",
      "    Total shots (inc. Blocked)  Hit Woodwork  Penalty goals  \\\n",
      "0                         32.0           0.0            0.0   \n",
      "1                         39.0           0.0            0.0   \n",
      "2                         27.0           1.0            0.0   \n",
      "3                         40.0           0.0            0.0   \n",
      "4                         65.0           1.0            0.0   \n",
      "5                         80.0           2.0            1.0   \n",
      "6                         32.0           1.0            1.0   \n",
      "7                        110.0           2.0            0.0   \n",
      "8                         60.0           2.0            0.0   \n",
      "9                         48.0           0.0            0.0   \n",
      "10                        82.0           6.0            0.0   \n",
      "11                        28.0           0.0            0.0   \n",
      "12                        59.0           2.0            0.0   \n",
      "13                       100.0           0.0            1.0   \n",
      "14                        39.0           3.0            0.0   \n",
      "15                        38.0           0.0            0.0   \n",
      "16                         NaN           NaN            NaN   \n",
      "17                         NaN           NaN            NaN   \n",
      "18                         NaN           NaN            NaN   \n",
      "19                         NaN           NaN            NaN   \n",
      "\n",
      "    Penalties not scored  ...  Clean Sheets  Blocks  Goals conceded  \\\n",
      "0                    0.0  ...           0.0    10.0             3.0   \n",
      "1                    0.0  ...           1.0    10.0             6.0   \n",
      "2                    0.0  ...           1.0    10.0             5.0   \n",
      "3                    0.0  ...           2.0    29.0             3.0   \n",
      "4                    0.0  ...           1.0     7.0             5.0   \n",
      "5                    0.0  ...           1.0    11.0             6.0   \n",
      "6                    1.0  ...           1.0    23.0             7.0   \n",
      "7                    0.0  ...           2.0    18.0             7.0   \n",
      "8                    0.0  ...           0.0     9.0             5.0   \n",
      "9                    0.0  ...           0.0     8.0             3.0   \n",
      "10                   0.0  ...           2.0    11.0             4.0   \n",
      "11                   0.0  ...           0.0    23.0             9.0   \n",
      "12                   0.0  ...           0.0     8.0             3.0   \n",
      "13                   0.0  ...           5.0     8.0             1.0   \n",
      "14                   0.0  ...           1.0    12.0             5.0   \n",
      "15                   0.0  ...           0.0     4.0             4.0   \n",
      "16                   NaN  ...           NaN     NaN             NaN   \n",
      "17                   NaN  ...           NaN     NaN             NaN   \n",
      "18                   NaN  ...           NaN     NaN             NaN   \n",
      "19                   NaN  ...           NaN     NaN             NaN   \n",
      "\n",
      "   Saves made  Saves-to-shots ratio  Fouls Won  Fouls Conceded  Offsides  \\\n",
      "0        13.0                81.30%       41.0            62.0       2.0   \n",
      "1         9.0                60.10%       53.0            73.0       8.0   \n",
      "2        10.0                66.70%       25.0            38.0       8.0   \n",
      "3        22.0                88.10%       43.0            45.0       6.0   \n",
      "4         6.0                54.60%       36.0            51.0       5.0   \n",
      "5        10.0                62.60%       63.0            49.0      12.0   \n",
      "6        13.0                65.10%       67.0            48.0      12.0   \n",
      "7        20.0                74.10%      101.0            89.0      16.0   \n",
      "8        12.0                70.60%       35.0            30.0       3.0   \n",
      "9         6.0                66.70%       48.0            56.0       3.0   \n",
      "10       10.0                71.50%       73.0            90.0      10.0   \n",
      "11       17.0                65.40%       43.0            51.0      11.0   \n",
      "12       10.0                77.00%       34.0            43.0       4.0   \n",
      "13       15.0                93.80%      102.0            83.0      19.0   \n",
      "14        8.0                61.60%       35.0            51.0       7.0   \n",
      "15       13.0                76.50%       48.0            31.0       4.0   \n",
      "16        NaN                   NaN        NaN             NaN       NaN   \n",
      "17        NaN                   NaN        NaN             NaN       NaN   \n",
      "18        NaN                   NaN        NaN             NaN       NaN   \n",
      "19        NaN                   NaN        NaN             NaN       NaN   \n",
      "\n",
      "    Yellow Cards  Red Cards  \n",
      "0            9.0        0.0  \n",
      "1            7.0        0.0  \n",
      "2            4.0        0.0  \n",
      "3            5.0        0.0  \n",
      "4            6.0        0.0  \n",
      "5            4.0        0.0  \n",
      "6            9.0        1.0  \n",
      "7           16.0        0.0  \n",
      "8            5.0        0.0  \n",
      "9            7.0        1.0  \n",
      "10          12.0        0.0  \n",
      "11           6.0        1.0  \n",
      "12           6.0        0.0  \n",
      "13          11.0        0.0  \n",
      "14           7.0        0.0  \n",
      "15           5.0        0.0  \n",
      "16           NaN        NaN  \n",
      "17           NaN        NaN  \n",
      "18           NaN        NaN  \n",
      "19           NaN        NaN  \n",
      "\n",
      "[20 rows x 32 columns]\n"
     ]
    }
   ],
   "source": [
    "g = euro12.iloc[:, :-3]\n",
    "#g = g.dropna()\n",
    "print(g)"
   ]
  },
  {
   "cell_type": "markdown",
   "metadata": {},
   "source": [
    "### Step 14. Present only the Shooting Accuracy from England, Italy and Russia"
   ]
  },
  {
   "cell_type": "code",
   "execution_count": 220,
   "metadata": {},
   "outputs": [
    {
     "name": "stdout",
     "output_type": "stream",
     "text": [
      "                                                    S A\n",
      "Team                                                   \n",
      "Croatia                                             NaN\n",
      "Czech Republic                                      NaN\n",
      "Denmark                                             NaN\n",
      "England                                             NaN\n",
      "France                                              NaN\n",
      "Germany                                             NaN\n",
      "Greece                                              NaN\n",
      "Italy                                               NaN\n",
      "Netherlands                                         NaN\n",
      "Poland                                              NaN\n",
      "Portugal                                            NaN\n",
      "Republic of Ireland                                 NaN\n",
      "Russia                                              NaN\n",
      "Spain                                               NaN\n",
      "Sweden                                              NaN\n",
      "Ukraine                                             NaN\n",
      "NaN                                                 NaN\n",
      "NaN                                                 NaN\n",
      "NaN                                                 NaN\n",
      "https://towardsdatascience.com/data-handling-us...  NaN\n",
      "         S A\n",
      "Team        \n",
      "England  NaN\n",
      "Italy    NaN\n",
      "Russia   NaN\n"
     ]
    }
   ],
   "source": [
    "dic = {'S A':euro12['Shooting Accuracy']}\n",
    "sh = pd.DataFrame(dic, index = euro12['Team'])\n",
    "print(sh)\n",
    "\n",
    "g = sh.loc[['England', 'Italy', 'Russia'],:]\n",
    "print(g)"
   ]
  },
  {
   "cell_type": "markdown",
   "metadata": {},
   "source": [
    "### Step 15. Use apply method on Goal Column to make a new column called Performance, using following conditions\n",
    "\n",
    "1. If Goals are less than or equal to 2, peformance is **Below Avg**\n",
    "2. If Goals are more than 2 and less than or equal to 5, peformance is **Average**\n",
    "3. If Goals are more than 5 and less than or equal to 10, peformance is **Above Average**\n",
    "4. If Goals are more than 10 then peformance is **Excellent**"
   ]
  },
  {
   "cell_type": "code",
   "execution_count": null,
   "metadata": {},
   "outputs": [],
   "source": []
  }
 ],
 "metadata": {
  "anaconda-cloud": {},
  "kernelspec": {
   "display_name": "Python 3",
   "language": "python",
   "name": "python3"
  },
  "language_info": {
   "codemirror_mode": {
    "name": "ipython",
    "version": 3
   },
   "file_extension": ".py",
   "mimetype": "text/x-python",
   "name": "python",
   "nbconvert_exporter": "python",
   "pygments_lexer": "ipython3",
   "version": "3.7.3"
  }
 },
 "nbformat": 4,
 "nbformat_minor": 1
}
